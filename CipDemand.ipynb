{
 "cells": [
  {
   "cell_type": "markdown",
   "metadata": {},
   "source": [
    "# CIP Supply and Demand Data Extraction\n",
    "\n",
    "This notebook can be used to gather information around which programs are offered in Minnesota and how much demand there is for each major based on SOC matching. The LMI careerwise site is used to gather the data. It first starts at the CIP page which has every program in Minnesota associated with a CIP code. From that the link assocatiated with each CIP record is added to a list and then iterated through a loop to gather the demand, associated with the SOC Code and the supplay assocatiated with the CIP Code. Unless the folder to download the data is already created, this notebook will likely need to be run as an administrator.\n",
    "The first step is to read in the appropriate packages:"
   ]
  },
  {
   "cell_type": "code",
   "execution_count": 1,
   "metadata": {
    "collapsed": true
   },
   "outputs": [],
   "source": [
    "import datetime\n",
    "import time\n",
    "import wget\n",
    "import numpy as np\n",
    "import pandas as pd\n",
    "from selenium import webdriver\n",
    "from selenium.webdriver.common.by import By\n",
    "import os\n",
    "import glob"
   ]
  },
  {
   "cell_type": "markdown",
   "metadata": {},
   "source": [
    "Next set the preferences for the firefox browser. This notebook uses Selenium and Geckodriver to naviagate through the lmi site."
   ]
  },
  {
   "cell_type": "code",
   "execution_count": 2,
   "metadata": {
    "collapsed": true
   },
   "outputs": [],
   "source": [
    "# Set the preferences for the firefox web browser\n",
    "fp = webdriver.FirefoxProfile()\n",
    "fp.set_preference('browser.download.folderList', 2)\n",
    "fp.set_preference('browser.download.manager.showWhenStarting', False)\n",
    "fp.set_preference('browser.download.dir', 'C:\\CIPDemand')\n",
    "fp.set_preference(\"http.response.timeout\", 300)\n",
    "fp.set_preference(\"dom.max_script_run_time\", 300)\n",
    "fp.set_preference('webdriver.load.strategy', 'unstable')\n",
    "\n",
    "#fp.set_preference(\"browser.helperApps.neverAsk.openFile\", \"application/octet-stream\");\n",
    "#fp.set_preference(\"browser.helperApps.neverAsk.saveToDisk\", \"application/octet-stream\");\n",
    "\n",
    "fp.set_preference('browser.helperApps.neverAsk.saveToDisk', 'text/plain, application/vnd.ms-excel, text/csv, text/comma-separated-values, application/octet-stream, application/vnd.openxmlformats-officedocument.spreadsheetml.sheet')\n",
    "fp.update_preferences()"
   ]
  },
  {
   "cell_type": "markdown",
   "metadata": {},
   "source": [
    "After the preferences are set the next cell will launch the browser and navigate to the Cip List page on the lmiwise career site."
   ]
  },
  {
   "cell_type": "code",
   "execution_count": 3,
   "metadata": {},
   "outputs": [],
   "source": [
    "# MDE web app for hs enrollment data\n",
    "searchURL = 'https://careerwise.minnstate.edu/lmiwise/cipList'\n",
    "time.sleep(3)\n",
    "\n",
    "# Launch web browser and navigate to the searchURL\n",
    "driver = webdriver.Firefox(fp)\n",
    "driver.get(searchURL)\n",
    "time.sleep(3)"
   ]
  },
  {
   "cell_type": "markdown",
   "metadata": {},
   "source": [
    "The next cell sets the working directory to CIPDemand."
   ]
  },
  {
   "cell_type": "code",
   "execution_count": 43,
   "metadata": {},
   "outputs": [
    {
     "data": {
      "text/plain": [
       "'C:\\\\CIPDemand'"
      ]
     },
     "execution_count": 43,
     "metadata": {},
     "output_type": "execute_result"
    }
   ],
   "source": [
    "newpath_main = r'C:\\CIPDemand'\n",
    "if not os.path.exists(newpath_main):\n",
    "    os.makedirs(newpath_main)   \n",
    "os.chdir(newpath_main)\n",
    "os.getcwd()                                                                                                                                                                                        "
   ]
  },
  {
   "cell_type": "markdown",
   "metadata": {},
   "source": [
    "Next lookup all the links in the cip list page by partial link reference."
   ]
  },
  {
   "cell_type": "code",
   "execution_count": 5,
   "metadata": {
    "collapsed": true
   },
   "outputs": [],
   "source": [
    "ids_a = driver.find_elements_by_xpath('//a[contains(@href, \"area=000000\")]')"
   ]
  },
  {
   "cell_type": "markdown",
   "metadata": {},
   "source": [
    "The cell below extracts the links from the selenium objects."
   ]
  },
  {
   "cell_type": "code",
   "execution_count": 6,
   "metadata": {
    "collapsed": true
   },
   "outputs": [],
   "source": [
    "link = []\n",
    "for ii in ids_a:\n",
    "    link.append(ii.get_attribute('href'))"
   ]
  },
  {
   "cell_type": "markdown",
   "metadata": {},
   "source": [
    "The output in the cell below shows how many links there are from the cip list page."
   ]
  },
  {
   "cell_type": "code",
   "execution_count": 7,
   "metadata": {},
   "outputs": [
    {
     "data": {
      "text/plain": [
       "2621"
      ]
     },
     "execution_count": 7,
     "metadata": {},
     "output_type": "execute_result"
    }
   ],
   "source": [
    "len(link)"
   ]
  },
  {
   "cell_type": "markdown",
   "metadata": {},
   "source": [
    "Next create a _Today_ object. The naming convention of the lmi files includes the date the files are downloaded."
   ]
  },
  {
   "cell_type": "code",
   "execution_count": 44,
   "metadata": {},
   "outputs": [],
   "source": [
    "Today = str(datetime.datetime.now().month) + '_' + str(datetime.datetime.now().day) + '_' + str(datetime.datetime.now().year)"
   ]
  },
  {
   "cell_type": "markdown",
   "metadata": {},
   "source": [
    "Next create the file name objects to read each iteration of the supply and demand files from the lmi site."
   ]
  },
  {
   "cell_type": "code",
   "execution_count": 45,
   "metadata": {},
   "outputs": [],
   "source": [
    "DemandFile = Today + '_lmidemand.xls'\n",
    "SupplyFile = Today + '_lmisupply.xls'"
   ]
  },
  {
   "cell_type": "markdown",
   "metadata": {},
   "source": [
    "The cell below takes a long time to run, roughly 4.5 hours. It iterates through each of the links, downloads the supply and demand files, creates a cartesian product between the 2 files, deletes the original files, and creates a new merged file that is named the iteration number of the loop."
   ]
  },
  {
   "cell_type": "code",
   "execution_count": 97,
   "metadata": {},
   "outputs": [],
   "source": [
    "for i in range(len(link)):\n",
    "    driver.get(link[i])\n",
    "    driver.find_element_by_link_text(\"Export Demand Data to Excel\").click()\n",
    "    driver.find_element_by_link_text(\"Export Supply Data to Excel\").click()\n",
    "    Demand = pd.read_excel(DemandFile)\n",
    "    Demand['Key'] = 1\n",
    "    \n",
    "    Supply = pd.read_excel(SupplyFile)\n",
    "    Supply['Key'] = 1\n",
    "    merge = pd.merge(Demand, Supply, how = 'inner', on = 'Key')\n",
    "    os.remove(DemandFile) \n",
    "    os.remove(SupplyFile)\n",
    "    #SOC = Demand['SOC Code'].iloc[0].replace('-', '_')\n",
    "    FileName = str(i) + '.csv'\n",
    "    FileName = str(FileName)\n",
    "    merge.to_csv(FileName)\n"
   ]
  },
  {
   "cell_type": "markdown",
   "metadata": {},
   "source": [
    "After all the files are downloaded, they can be concatenated together into one big file."
   ]
  },
  {
   "cell_type": "code",
   "execution_count": 99,
   "metadata": {
    "collapsed": true
   },
   "outputs": [],
   "source": [
    "filenames = glob.glob(newpath_main + \"\\*.csv\")\n",
    "\n",
    "dfs = []\n",
    "for filename in filenames:\n",
    "    dfs.append(pd.read_csv(filename))\n",
    "\n",
    "# Concatenate all data into one DataFrame\n",
    "big_frame = pd.concat(dfs, ignore_index=True)"
   ]
  },
  {
   "cell_type": "code",
   "execution_count": 101,
   "metadata": {},
   "outputs": [
    {
     "data": {
      "text/plain": [
       "38520"
      ]
     },
     "execution_count": 101,
     "metadata": {},
     "output_type": "execute_result"
    }
   ],
   "source": [
    "len(big_frame)"
   ]
  },
  {
   "cell_type": "markdown",
   "metadata": {},
   "source": [
    "Next drop any duplicate values from big_frame."
   ]
  },
  {
   "cell_type": "code",
   "execution_count": 102,
   "metadata": {
    "collapsed": true
   },
   "outputs": [],
   "source": [
    "big_frame_nodupes = big_frame.drop_duplicates()"
   ]
  },
  {
   "cell_type": "code",
   "execution_count": 103,
   "metadata": {},
   "outputs": [
    {
     "data": {
      "text/plain": [
       "2231"
      ]
     },
     "execution_count": 103,
     "metadata": {},
     "output_type": "execute_result"
    }
   ],
   "source": [
    "len(big_frame_nodupes)"
   ]
  },
  {
   "cell_type": "code",
   "execution_count": 106,
   "metadata": {},
   "outputs": [
    {
     "data": {
      "text/plain": [
       "'C:\\\\CIPConcatenated'"
      ]
     },
     "execution_count": 106,
     "metadata": {},
     "output_type": "execute_result"
    }
   ],
   "source": [
    "newpath_main = r'C:\\CIPConcatenated'\n",
    "if not os.path.exists(newpath_main):\n",
    "    os.makedirs(newpath_main)   \n",
    "os.chdir(newpath_main)\n",
    "os.getcwd()    "
   ]
  },
  {
   "cell_type": "code",
   "execution_count": 107,
   "metadata": {
    "collapsed": true
   },
   "outputs": [],
   "source": [
    "big_frame_nodupes.to_csv('CipSupplyDemand.csv', index = False)"
   ]
  },
  {
   "cell_type": "code",
   "execution_count": 109,
   "metadata": {},
   "outputs": [
    {
     "data": {
      "text/plain": [
       "'C:\\\\CIPLinks'"
      ]
     },
     "execution_count": 109,
     "metadata": {},
     "output_type": "execute_result"
    }
   ],
   "source": [
    "newpath_main = r'C:\\CIPLinks'\n",
    "if not os.path.exists(newpath_main):\n",
    "    os.makedirs(newpath_main)   \n",
    "os.chdir(newpath_main)\n",
    "os.getcwd()    "
   ]
  },
  {
   "cell_type": "markdown",
   "metadata": {},
   "source": [
    "Save the original links from the CIP list page. This can be used to troubleshoot any issues that may arise from downloading the data."
   ]
  },
  {
   "cell_type": "code",
   "execution_count": 111,
   "metadata": {},
   "outputs": [],
   "source": [
    "pd.DataFrame(link).to_csv('CIPLinks.csv', index = False)"
   ]
  }
 ],
 "metadata": {
  "kernelspec": {
   "display_name": "Python 3",
   "language": "python",
   "name": "python3"
  },
  "language_info": {
   "codemirror_mode": {
    "name": "ipython",
    "version": 3
   },
   "file_extension": ".py",
   "mimetype": "text/x-python",
   "name": "python",
   "nbconvert_exporter": "python",
   "pygments_lexer": "ipython3",
   "version": "3.6.1"
  }
 },
 "nbformat": 4,
 "nbformat_minor": 2
}
